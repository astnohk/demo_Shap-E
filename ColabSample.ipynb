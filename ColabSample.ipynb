{
  "cells": [
    {
      "cell_type": "code",
      "execution_count": null,
      "metadata": {
        "id": "kXnYumwXdwtb"
      },
      "outputs": [],
      "source": [
        "! wget https://bin.equinox.io/c/4VmDzA7iaHb/ngrok-stable-linux-amd64.zip\n",
        "! unzip ngrok-stable-linux-amd64.zip"
      ]
    },
    {
      "cell_type": "code",
      "execution_count": null,
      "metadata": {
        "id": "EgaOPJUCeFzU"
      },
      "outputs": [],
      "source": [
        "! ./ngrok authtoken YOUR_AUTH_TOKEN"
      ]
    },
    {
      "cell_type": "code",
      "execution_count": null,
      "metadata": {
        "id": "slyDhzdzeO4v"
      },
      "outputs": [],
      "source": [
        "get_ipython().system_raw('./ngrok http 8050 -host-header=\"localhost:8050\" -region=YOUR_REGION &')\n",
        "\n",
        "import time\n",
        "time.sleep(3)\n",
        "\n",
        "! curl http://localhost:4040/api/tunnels\n",
        "! curl -s http://localhost:4040/api/tunnels | python3 -c \"import sys, json; print(json.load(sys.stdin)['tunnels'][0]['public_url'])\"\n"
      ]
    },
    {
      "cell_type": "code",
      "execution_count": null,
      "metadata": {
        "id": "INjlPiZReeJf"
      },
      "outputs": [],
      "source": [
        "! pip install git+https://github.com/openai/shap-e.git\n",
        "! pip install \"scikit-image>0.19\""
      ]
    },
    {
      "cell_type": "code",
      "execution_count": null,
      "metadata": {
        "id": "SlGMdaDPi1RJ"
      },
      "outputs": [],
      "source": [
        "! git clone https://github.com/astnohk/demo_Shap-E.git\n",
        "! cd demo_Shap-E && git pull\n"
      ]
    },
    {
      "cell_type": "code",
      "execution_count": null,
      "metadata": {
        "colab": {
          "base_uri": "https://localhost:8080/"
        },
        "id": "k5XhwNeeko0-",
        "outputId": "1f64c410-845d-4e38-b332-afcd2e1d051c"
      },
      "outputs": [],
      "source": [
        "#! cd demo_Shap-E && python3 http_txt2glTF.py --hostname \"127.0.0.1\" --port 8050",
        "! cd demo_Shap-E && python3 http_txt2PLY.py --hostname \"127.0.0.1\" --port 8050"
      ]
    }
  ],
  "metadata": {
    "accelerator": "GPU",
    "colab": {
      "provenance": []
    },
    "gpuClass": "standard",
    "kernelspec": {
      "display_name": "Python 3",
      "name": "python3"
    },
    "language_info": {
      "name": "python"
    }
  },
  "nbformat": 4,
  "nbformat_minor": 0
}
